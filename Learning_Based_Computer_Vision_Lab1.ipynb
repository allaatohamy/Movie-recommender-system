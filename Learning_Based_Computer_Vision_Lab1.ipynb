{
  "nbformat": 4,
  "nbformat_minor": 0,
  "metadata": {
    "colab": {
      "provenance": [],
      "collapsed_sections": [],
      "include_colab_link": true
    },
    "kernelspec": {
      "name": "python3",
      "display_name": "Python 3"
    },
    "language_info": {
      "name": "python"
    }
  },
  "cells": [
    {
      "cell_type": "markdown",
      "metadata": {
        "id": "view-in-github",
        "colab_type": "text"
      },
      "source": [
        "<a href=\"https://colab.research.google.com/github/allaatohamy/Movie-recommender-system/blob/main/Learning_Based_Computer_Vision_Lab1.ipynb\" target=\"_parent\"><img src=\"https://colab.research.google.com/assets/colab-badge.svg\" alt=\"Open In Colab\"/></a>"
      ]
    },
    {
      "cell_type": "markdown",
      "source": [
        "# Imports"
      ],
      "metadata": {
        "id": "IgiIHSKJ8swy"
      }
    },
    {
      "cell_type": "code",
      "source": [
        "import os\n",
        "\n",
        "import numpy as np\n",
        "import matplotlib.pyplot as plt\n",
        "\n",
        "from skimage import io\n",
        "import skimage "
      ],
      "metadata": {
        "id": "oKGnYlPC8r6L"
      },
      "execution_count": null,
      "outputs": []
    },
    {
      "cell_type": "markdown",
      "source": [
        "# Download and organize the dataset (No Code required here)"
      ],
      "metadata": {
        "id": "Y-hrSwCs80or"
      }
    },
    {
      "cell_type": "code",
      "execution_count": null,
      "metadata": {
        "id": "DWANg8kcspOX"
      },
      "outputs": [],
      "source": [
        "%%capture\n",
        "\n",
        "import requests\n",
        "url = 'http://vision.soic.indiana.edu/egohands_files/egohands_data.zip'\n",
        "r = requests.get(url, allow_redirects=True)\n",
        "open('egohands_data.zip', 'wb').write(r.content)\n",
        "\n",
        "!rm -r data\n",
        "!rm -r temp\n",
        "!mkdir data\n",
        "!mkdir temp\n",
        "!unzip egohands_data.zip -d temp/\n",
        "!cp -r /content/temp/_LABELLED_SAMPLES/CARDS_OFFICE_B_S/* /content/data/\n",
        "!rm /content/data/polygons.mat\n",
        "!rm -r temp"
      ]
    },
    {
      "cell_type": "markdown",
      "source": [
        "# Read the images from the folder 'data' into a list\n",
        "\n"
      ],
      "metadata": {
        "id": "5UT8J79u85NM"
      }
    },
    {
      "cell_type": "code",
      "source": [
        "# os.listdir <-- you may want to use this function\n",
        "\n",
        "dataset_dir = \"data\" # this is the directory of the dataset\n",
        "\n",
        "\n",
        "\n",
        "\n",
        "# Your code here\n",
        "imgs = ...\n",
        "##"
      ],
      "metadata": {
        "id": "x9rm3-mb7ZFf"
      },
      "execution_count": null,
      "outputs": []
    },
    {
      "cell_type": "markdown",
      "source": [
        "# Define a function that takes a list of images then samples 9 iamges from the list, then draws them using matplotlib in a 3x3 grid"
      ],
      "metadata": {
        "id": "Crq18I6z-FKu"
      }
    },
    {
      "cell_type": "code",
      "source": [
        "import random # u may need this library\n",
        "random.seed(100) # set a seed in case you want your experiments to be consistent\n",
        "\n",
        "\n",
        "\n",
        "\n",
        "def draw_func(list_of_imgs):\n",
        "  # Your code here\n",
        "\n",
        "  ##\n",
        "  plt.show()\n",
        "\n",
        "\n",
        "\n",
        "\n",
        "## Test your function here\n",
        "draw_func(imgs) # assuming that imgs is the name of the list\n",
        "##"
      ],
      "metadata": {
        "id": "Wd8ER2GW9lv0"
      },
      "execution_count": null,
      "outputs": []
    },
    {
      "cell_type": "markdown",
      "source": [
        "# Apply Gray scaling on the images"
      ],
      "metadata": {
        "id": "U_l1dHSzCG3X"
      }
    },
    {
      "cell_type": "code",
      "source": [
        "# skimage.color.rgb2gray(an_img) <-- you may want to check this function\n",
        "\n",
        "\n",
        "\n",
        "# Your code here\n",
        "gray_scale_imgs = ...\n",
        "##\n",
        "\n",
        "\n",
        "\n",
        "# Use your draw function to visualize the images\n",
        "draw_func(gray_scale_imgs) # assuming that gray_scale_imgs is the name of the list"
      ],
      "metadata": {
        "id": "dS-DDKmOCJxB"
      },
      "execution_count": null,
      "outputs": []
    },
    {
      "cell_type": "markdown",
      "source": [
        "# Apply histogram equalization on the gray scale images"
      ],
      "metadata": {
        "id": "o6KsdA1J_XI1"
      }
    },
    {
      "cell_type": "code",
      "source": [
        "from skimage import exposure # You will probably need this function\n",
        "\n",
        "\n",
        "\n",
        "\n",
        "# Your code here\n",
        "equ_imgs = ...\n",
        "##\n",
        "\n",
        "\n",
        "\n",
        "\n",
        "# Use your draw function to visualize the images\n",
        "draw_func(equ_imgs)"
      ],
      "metadata": {
        "id": "1GDeKqg26dEq"
      },
      "execution_count": null,
      "outputs": []
    },
    {
      "cell_type": "markdown",
      "source": [
        "# Apply sobel edge detection on the equalized images"
      ],
      "metadata": {
        "id": "y3uevTtbBfB0"
      }
    },
    {
      "cell_type": "code",
      "source": [
        "from skimage.filters import sobel # You will probably need this function\n",
        "\n",
        "\n",
        "\n",
        "\n",
        "# Your code here\n",
        "sobel_imgs = ...\n",
        "##\n",
        "\n",
        "\n",
        "\n",
        "\n",
        "# Use your draw function to visualize the images\n",
        "draw_func(sobel_imgs)"
      ],
      "metadata": {
        "id": "3kgfZpkvBhYK"
      },
      "execution_count": null,
      "outputs": []
    },
    {
      "cell_type": "markdown",
      "source": [
        "# Apply Gaussian derivative over the equalized images"
      ],
      "metadata": {
        "id": "mQzLYIGkFKJk"
      }
    },
    {
      "cell_type": "code",
      "source": [
        "# you better check lab 1 notebook\n",
        "\n",
        "\n",
        "\n",
        "\n",
        "# Your code here\n",
        "devX = ... # Derivative in the X direction\n",
        "devY = ... # Derivative in the Y direction\n",
        "##\n",
        "\n",
        "\n",
        "\n",
        "\n",
        "# Use your draw function to visualize the magnitude\n",
        "draw_func(mag_imgs)\n",
        "\n",
        "# Use your draw function to visualize the orientation\n",
        "draw_func(angle)"
      ],
      "metadata": {
        "id": "JA1dYccSFJY0"
      },
      "execution_count": null,
      "outputs": []
    },
    {
      "cell_type": "markdown",
      "source": [
        "# Bonus: Search for super pixeling and apply it"
      ],
      "metadata": {
        "id": "-W8p_LryJvXY"
      }
    },
    {
      "cell_type": "code",
      "source": [
        "# Your code here\n",
        "super_pixels = ...\n",
        "##\n",
        "\n",
        "# Use your draw function to visualize the results\n",
        "draw_func(super_pixels)"
      ],
      "metadata": {
        "id": "jIz_mzHMJ5HT"
      },
      "execution_count": null,
      "outputs": []
    }
  ]
}